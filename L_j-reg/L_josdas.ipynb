{
 "cells": [
  {
   "cell_type": "code",
   "execution_count": 60,
   "metadata": {
    "collapsed": true
   },
   "outputs": [],
   "source": [
    "from scipy.optimize import minimize\n",
    "from sklearn.datasets import load_boston\n",
    "from sklearn.base import BaseEstimator\n",
    "from sklearn.model_selection import cross_val_score, train_test_split\n",
    "from sklearn.metrics import mean_squared_error\n",
    "from sklearn.linear_model import Ridge\n",
    "import numpy as np"
   ]
  },
  {
   "cell_type": "code",
   "execution_count": 264,
   "metadata": {},
   "outputs": [],
   "source": [
    "class JModel(BaseEstimator):\n",
    "    def __init__(self, C=1.0):\n",
    "        self.C = C\n",
    "    \n",
    "    def predict(self, X):\n",
    "        return X @ self.W + self.b\n",
    "    \n",
    "    def fit(self, X, y):\n",
    "        self.n = X.shape[1]\n",
    "        \n",
    "        def loss(y, predict, w):\n",
    "            return np.mean((y - predict) ** 2) + \\\n",
    "                   np.abs(np.sin(w * np.pi)).mean() * self.C\n",
    "        \n",
    "        def fun(x):\n",
    "            w, b = x[:-1], x[-1]\n",
    "            return loss(y, X @ w + b, w)\n",
    "        \n",
    "        x0 = np.random.sample(self.n + 1) * 10 - 5\n",
    "        \n",
    "        res = minimize(fun, x0, tol=1e-7, method='Powell',\n",
    "                       options={'xtol': 1e-6, 'ftol': 1e-6, 'maxfev': 1000000})\n",
    "        \n",
    "        if res.status != 0:\n",
    "            print('Fail')\n",
    "            \n",
    "        self.W = res.x[:-1]\n",
    "        self.b = res.x[-1]\n",
    "\n",
    "        return self"
   ]
  },
  {
   "cell_type": "code",
   "execution_count": 265,
   "metadata": {},
   "outputs": [],
   "source": [
    "X, y = load_boston(True)"
   ]
  },
  {
   "cell_type": "code",
   "execution_count": 275,
   "metadata": {},
   "outputs": [
    {
     "data": {
      "text/plain": [
       "-120.83946645747623"
      ]
     },
     "execution_count": 275,
     "metadata": {},
     "output_type": "execute_result"
    }
   ],
   "source": [
    "model = JModel(C=1)\n",
    "cross_val_score(model, X, y, scoring='neg_mean_squared_error').mean()"
   ]
  },
  {
   "cell_type": "code",
   "execution_count": 267,
   "metadata": {},
   "outputs": [
    {
     "data": {
      "text/plain": [
       "-39.238385713510453"
      ]
     },
     "execution_count": 267,
     "metadata": {},
     "output_type": "execute_result"
    }
   ],
   "source": [
    "model = Ridge(1000)\n",
    "cross_val_score(model, X, y, scoring='neg_mean_squared_error').mean()"
   ]
  },
  {
   "cell_type": "code",
   "execution_count": 268,
   "metadata": {
    "collapsed": true
   },
   "outputs": [],
   "source": [
    "X_train, X_test, y_train, y_test = train_test_split(X, y, random_state=1)"
   ]
  },
  {
   "cell_type": "code",
   "execution_count": 272,
   "metadata": {},
   "outputs": [
    {
     "name": "stdout",
     "output_type": "stream",
     "text": [
      "C:       0.008 loss:      21.818 integers count: 1\n",
      "C:       0.040 loss:      22.083 integers count: 1\n",
      "C:       0.200 loss:      21.693 integers count: 2\n",
      "C:       1.000 loss:      20.750 integers count: 2\n",
      "C:       5.000 loss:     215.103 integers count: 3\n",
      "C:      25.000 loss:     139.074 integers count: 3\n",
      "C:     125.000 loss:    1428.674 integers count: 5\n",
      "C:     625.000 loss:    3314.174 integers count: 7\n",
      "C:    3125.000 loss:    9326.370 integers count: 8\n",
      "C:   15625.000 loss:   70078.264 integers count: 10\n",
      "C:   78125.000 loss:   91434.458 integers count: 10\n",
      "C:  390625.000 loss:  110820.833 integers count: 12\n",
      "C: 1953125.000 loss:   55903.524 integers count: 13\n"
     ]
    }
   ],
   "source": [
    "for C in np.power(5.0, np.arange(-3, 10)):\n",
    "    model = JModel(C=C)\n",
    "    \n",
    "    model.fit(X_train, y_train)\n",
    "    prediction = model.predict(X_test)\n",
    "    loss = mean_squared_error(y_test, prediction)\n",
    "    \n",
    "    w = model.W\n",
    "    diff = np.abs(np.round(w) - w)\n",
    "    ints = (diff < 1e-5).sum()\n",
    "    print('C: {:11.3f} loss: {:11.3f} integers count: {}'.format(C, loss, ints))"
   ]
  },
  {
   "cell_type": "code",
   "execution_count": null,
   "metadata": {
    "collapsed": true
   },
   "outputs": [],
   "source": []
  }
 ],
 "metadata": {
  "kernelspec": {
   "display_name": "Python [conda env:anaconda3]",
   "language": "python",
   "name": "conda-env-anaconda3-py"
  },
  "language_info": {
   "codemirror_mode": {
    "name": "ipython",
    "version": 3
   },
   "file_extension": ".py",
   "mimetype": "text/x-python",
   "name": "python",
   "nbconvert_exporter": "python",
   "pygments_lexer": "ipython3",
   "version": "3.6.4"
  }
 },
 "nbformat": 4,
 "nbformat_minor": 2
}
